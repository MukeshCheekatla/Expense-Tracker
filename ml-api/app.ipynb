{
 "cells": [
  {
   "cell_type": "code",
   "execution_count": null,
   "id": "982a91a4",
   "metadata": {},
   "outputs": [],
   "source": [
    "pip install pandas scikit-learn joblib\n"
   ]
  },
  {
   "cell_type": "code",
   "execution_count": 2,
   "id": "8df2c649",
   "metadata": {},
   "outputs": [
    {
     "name": "stdout",
     "output_type": "stream",
     "text": [
      "                   description       category\n",
      "0  Ordered pizza from Domino's           Food\n",
      "1          Uber ride to office      Transport\n",
      "2         Bought movie tickets  Entertainment\n",
      "3             Monthly bus pass      Transport\n",
      "4                Dinner at KFC           Food\n"
     ]
    }
   ],
   "source": [
    "import pandas as pd\n",
    "from sklearn.model_selection import train_test_split\n",
    "from sklearn.feature_extraction.text import CountVectorizer\n",
    "from sklearn.naive_bayes import MultinomialNB\n",
    "from sklearn.pipeline import make_pipeline\n",
    "import joblib\n",
    "\n",
    "# Load your CSV file\n",
    "df = pd.read_csv('expenses.csv')\n",
    "\n",
    "# Basic check\n",
    "print(df.head())\n",
    "\n",
    "# Train-test split\n",
    "X = df['description']\n",
    "y = df['category']\n",
    "X_train, X_test, y_train, y_test = train_test_split(X, y, test_size=0.2, random_state=42)\n"
   ]
  },
  {
   "cell_type": "code",
   "execution_count": 3,
   "id": "a327938c",
   "metadata": {},
   "outputs": [
    {
     "name": "stdout",
     "output_type": "stream",
     "text": [
      "Test Accuracy: 0.5\n"
     ]
    }
   ],
   "source": [
    "# Create a pipeline with CountVectorizer + Naive Bayes\n",
    "model = make_pipeline(CountVectorizer(), MultinomialNB())\n",
    "\n",
    "# Train the model\n",
    "model.fit(X_train, y_train)\n",
    "\n",
    "# Test accuracy\n",
    "print(\"Test Accuracy:\", model.score(X_test, y_test))\n"
   ]
  },
  {
   "cell_type": "code",
   "execution_count": 4,
   "id": "94144647",
   "metadata": {},
   "outputs": [
    {
     "name": "stdout",
     "output_type": "stream",
     "text": [
      "Model saved as expense_category_predictor.pkl\n"
     ]
    }
   ],
   "source": [
    "joblib.dump(model, 'expense_category_predictor.pkl')\n",
    "print(\"Model saved as expense_category_predictor.pkl\")\n"
   ]
  },
  {
   "cell_type": "code",
   "execution_count": 5,
   "id": "63256f47",
   "metadata": {},
   "outputs": [
    {
     "name": "stdout",
     "output_type": "stream",
     "text": [
      "['Food']\n",
      "['Transport']\n"
     ]
    }
   ],
   "source": [
    "# Quick test\n",
    "print(model.predict([\"Bought biryani from restaurant\"]))  # should predict 'Food'\n",
    "print(model.predict([\"Cab to railway station\"]))          # should predict 'Transport'\n"
   ]
  },
  {
   "cell_type": "code",
   "execution_count": 1,
   "id": "d5737615",
   "metadata": {},
   "outputs": [
    {
     "name": "stdout",
     "output_type": "stream",
     "text": [
      "Model Performance:\n",
      "               precision    recall  f1-score   support\n",
      "\n",
      "Entertainment       0.00      0.00      0.00         1\n",
      "         Food       1.00      1.00      1.00         2\n",
      "    Transport       0.00      0.00      0.00         1\n",
      "\n",
      "     accuracy                           0.50         4\n",
      "    macro avg       0.33      0.33      0.33         4\n",
      " weighted avg       0.50      0.50      0.50         4\n",
      "\n"
     ]
    },
    {
     "data": {
      "text/plain": [
       "['expense_category_model.joblib']"
      ]
     },
     "execution_count": 1,
     "metadata": {},
     "output_type": "execute_result"
    }
   ],
   "source": [
    "import pandas as pd\n",
    "from sklearn.model_selection import train_test_split\n",
    "from sklearn.pipeline import make_pipeline\n",
    "from sklearn.feature_extraction.text import TfidfVectorizer\n",
    "from sklearn.linear_model import LogisticRegression\n",
    "from sklearn.metrics import classification_report\n",
    "import joblib\n",
    "\n",
    "# 1. Load your data\n",
    "df = pd.read_csv(\"expenses.csv\")\n",
    "\n",
    "# 2. Preprocess the data\n",
    "df = df.dropna(subset=[\"description\", \"category\"])  # make sure there are no missing values\n",
    "X = df[\"description\"]  # Text data for description\n",
    "y = df[\"category\"]     # Labels for categories\n",
    "\n",
    "# 3. Split data into train and test sets (80% training, 20% testing)\n",
    "X_train, X_test, y_train, y_test = train_test_split(X, y, test_size=0.2, random_state=42)\n",
    "\n",
    "# 4. Build a text classification pipeline\n",
    "model = make_pipeline(\n",
    "    TfidfVectorizer(),   # Converts text to numerical features\n",
    "    LogisticRegression()  # Classifier that works well for text classification\n",
    ")\n",
    "\n",
    "# 5. Train the model\n",
    "model.fit(X_train, y_train)\n",
    "\n",
    "# 6. Evaluate the model (check performance on test set)\n",
    "y_pred = model.predict(X_test)\n",
    "print(\"Model Performance:\")\n",
    "print(classification_report(y_test, y_pred))\n",
    "\n",
    "# 7. Save the trained model\n",
    "joblib.dump(model, \"expense_category_model.joblib\")\n"
   ]
  }
 ],
 "metadata": {
  "kernelspec": {
   "display_name": "Python 3",
   "language": "python",
   "name": "python3"
  },
  "language_info": {
   "codemirror_mode": {
    "name": "ipython",
    "version": 3
   },
   "file_extension": ".py",
   "mimetype": "text/x-python",
   "name": "python",
   "nbconvert_exporter": "python",
   "pygments_lexer": "ipython3",
   "version": "3.12.10"
  }
 },
 "nbformat": 4,
 "nbformat_minor": 5
}
